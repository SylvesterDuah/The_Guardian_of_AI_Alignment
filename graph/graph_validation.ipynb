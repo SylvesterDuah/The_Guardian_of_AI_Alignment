{
 "cells": [
  {
   "cell_type": "code",
   "execution_count": 8,
   "metadata": {},
   "outputs": [],
   "source": [
    "# Import Libraries\n",
    "from arango import ArangoClient\n",
    "from arango.exceptions import ArangoError\n"
   ]
  },
  {
   "cell_type": "code",
   "execution_count": 13,
   "metadata": {},
   "outputs": [
    {
     "name": "stdout",
     "output_type": "stream",
     "text": [
      "ArangoDB Error: [HTTP 404][ERR 1228] database not found\n"
     ]
    }
   ],
   "source": [
    "# Step 2: Validate Graph\n",
    "def validate_graph(db_name=\"graph_db\", graph_name=\"ai_incidents_graph\"):\n",
    "    \"\"\"\n",
    "    Validate the graph structure in ArangoDB by running sample queries.\n",
    "    \"\"\"\n",
    "    try:\n",
    "        # Initialize the ArangoDB client\n",
    "        client = ArangoClient(hosts=\"http://localhost:8529\")\n",
    "\n",
    "        # Connect to the database\n",
    "        db = client.db(db_name, username=\"root\", password=\"passwd\")\n",
    "\n",
    "        # Get the graph and collections\n",
    "        graph_collection = db.graph(graph_name)\n",
    "        nodes_collection = db.collection(\"nodes\")\n",
    "        edges_collection = db.collection(\"edges\")\n",
    "\n",
    "        # Query 1: Count the number of nodes\n",
    "        node_count = nodes_collection.count()\n",
    "        print(f\"Number of nodes: {node_count}\")\n",
    "\n",
    "        # Query 2: Count the number of edges\n",
    "        edge_count = edges_collection.count()\n",
    "        print(f\"Number of edges: {edge_count}\")\n",
    "\n",
    "        # Query 3: Get the first 5 nodes\n",
    "        print(\"\\nFirst 5 nodes:\")\n",
    "        for node in nodes_collection.all(limit=5):\n",
    "            print(node)\n",
    "\n",
    "        # Query 4: Get the first 5 edges\n",
    "        print(\"\\nFirst 5 edges:\")\n",
    "        for edge in edges_collection.all(limit=5):\n",
    "            print(edge)\n",
    "\n",
    "        # Query 5: Get the neighbors of a sample node\n",
    "        sample_node = nodes_collection.all(limit=1).next()[\"_key\"]\n",
    "        print(f\"\\nNeighbors of node '{sample_node}':\")\n",
    "        neighbors = db.aql.execute(\n",
    "            f\"FOR v IN 1..1 ANY 'nodes/{sample_node}' edges RETURN v\"\n",
    "        )\n",
    "        for neighbor in neighbors:\n",
    "            print(neighbor)\n",
    "\n",
    "    except ArangoError as e:\n",
    "        print(f\"ArangoDB Error: {e}\")\n",
    "    except Exception as e:\n",
    "        print(f\"Unexpected Error: {e}\")\n",
    "\n",
    "# Step 3: Run Validation\n",
    "validate_graph()"
   ]
  }
 ],
 "metadata": {
  "kernelspec": {
   "display_name": "align",
   "language": "python",
   "name": "python3"
  },
  "language_info": {
   "codemirror_mode": {
    "name": "ipython",
    "version": 3
   },
   "file_extension": ".py",
   "mimetype": "text/x-python",
   "name": "python",
   "nbconvert_exporter": "python",
   "pygments_lexer": "ipython3",
   "version": "3.12.2"
  }
 },
 "nbformat": 4,
 "nbformat_minor": 2
}
