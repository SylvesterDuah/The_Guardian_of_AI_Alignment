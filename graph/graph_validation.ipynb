{
 "cells": [
  {
   "cell_type": "code",
   "execution_count": 41,
   "metadata": {},
   "outputs": [],
   "source": [
    "# Import Libraries\n",
    "from arango import ArangoClient\n",
    "from arango.exceptions import ArangoError"
   ]
  },
  {
   "cell_type": "code",
   "execution_count": 42,
   "metadata": {},
   "outputs": [
    {
     "name": "stdout",
     "output_type": "stream",
     "text": [
      "Number of nodes: 487\n",
      "Number of edges: 0\n",
      "\n",
      "First 5 nodes:\n",
      "{'_key': 'Content_Recommendation,_Content_Search,_Hate_Speech_Detection,_NSFW_Content_Detection', '_id': 'nodes/Content_Recommendation,_Content_Search,_Hate_Speech_Detection,_NSFW_Content_Detection', '_rev': '_jO9ChmS---'}\n",
      "{'_key': 'Content-based_Filtering,_Collaborative_Filtering', '_id': 'nodes/Content-based_Filtering,_Collaborative_Filtering', '_rev': '_jO9Chma---'}\n",
      "{'_key': 'Hate_Speech_Detection', '_id': 'nodes/Hate_Speech_Detection', '_rev': '_jO9Chme---'}\n",
      "{'_key': 'Character_NGrams', '_id': 'nodes/Character_NGrams', '_rev': '_jO9Chmm---'}\n",
      "{'_key': 'Autonomous_Driving', '_id': 'nodes/Autonomous_Driving', '_rev': '_jO9Chmu---'}\n",
      "\n",
      "First 5 edges:\n",
      "\n",
      "Neighbors of node 'Content_Recommendation,_Content_Search,_Hate_Speech_Detection,_NSFW_Content_Detection':\n"
     ]
    }
   ],
   "source": [
    "def validate_graph(db_name=\"graph_db\", graph_name=\"ai_incidents_graph\"):\n",
    "    \"\"\"\n",
    "    Validate the graph structure in ArangoDB by running sample queries.\n",
    "    \"\"\"\n",
    "    try:\n",
    "        client = ArangoClient(hosts=\"http://localhost:8529\")\n",
    "        db = client.db(db_name, username=\"root\", password=\"passwd\")\n",
    "\n",
    "        if not db.has_graph(graph_name):\n",
    "            print(f\"Graph '{graph_name}' does not exist.\")\n",
    "            return\n",
    "\n",
    "        graph_collection = db.graph(graph_name)\n",
    "        nodes_collection = db.collection(\"nodes\")\n",
    "        edges_collection = db.collection(\"edges\")\n",
    "\n",
    "        node_count = nodes_collection.count()\n",
    "        edge_count = edges_collection.count()\n",
    "\n",
    "        print(f\"Number of nodes: {node_count}\")\n",
    "        print(f\"Number of edges: {edge_count}\")\n",
    "\n",
    "        print(\"\\nFirst 5 nodes:\")\n",
    "        for node in nodes_collection.all(limit=5):\n",
    "            print(node)\n",
    "\n",
    "        print(\"\\nFirst 5 edges:\")\n",
    "        for edge in edges_collection.all(limit=5):\n",
    "            print(edge)\n",
    "\n",
    "        sample_nodes = list(nodes_collection.all(limit=1))\n",
    "        if sample_nodes:\n",
    "            sample_node = sample_nodes[0][\"_key\"]\n",
    "            print(f\"\\nNeighbors of node '{sample_node}':\")\n",
    "            neighbors = db.aql.execute(\n",
    "                f\"FOR v IN 1..1 ANY 'nodes/{sample_node}' edges RETURN v\"\n",
    "            )\n",
    "            for neighbor in neighbors:\n",
    "                print(neighbor)\n",
    "        else:\n",
    "            print(\"No sample node found to test neighbor queries.\")\n",
    "\n",
    "    except ArangoError as e:\n",
    "        print(f\"ArangoDB Error: {e}\")\n",
    "    except Exception as e:\n",
    "        print(f\"Unexpected Error: {e}\")\n",
    "\n",
    "# Run validation\n",
    "validate_graph()\n"
   ]
  }
 ],
 "metadata": {
  "kernelspec": {
   "display_name": "align",
   "language": "python",
   "name": "python3"
  },
  "language_info": {
   "codemirror_mode": {
    "name": "ipython",
    "version": 3
   },
   "file_extension": ".py",
   "mimetype": "text/x-python",
   "name": "python",
   "nbconvert_exporter": "python",
   "pygments_lexer": "ipython3",
   "version": "3.12.2"
  }
 },
 "nbformat": 4,
 "nbformat_minor": 2
}
