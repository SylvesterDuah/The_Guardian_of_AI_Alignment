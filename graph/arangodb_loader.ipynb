{
 "cells": [
  {
   "cell_type": "code",
   "execution_count": 6,
   "metadata": {},
   "outputs": [
    {
     "name": "stdout",
     "output_type": "stream",
     "text": [
      "Requirement already satisfied: python-arango in /Users/sylvesterduah/Documents/Code/De_Alignment/align/lib/python3.12/site-packages (8.1.4)\n",
      "Requirement already satisfied: urllib3>=1.26.0 in /Users/sylvesterduah/Documents/Code/De_Alignment/align/lib/python3.12/site-packages (from python-arango) (2.3.0)\n",
      "Requirement already satisfied: requests in /Users/sylvesterduah/Documents/Code/De_Alignment/align/lib/python3.12/site-packages (from python-arango) (2.32.3)\n",
      "Requirement already satisfied: requests_toolbelt in /Users/sylvesterduah/Documents/Code/De_Alignment/align/lib/python3.12/site-packages (from python-arango) (1.0.0)\n",
      "Requirement already satisfied: PyJWT in /Users/sylvesterduah/Documents/Code/De_Alignment/align/lib/python3.12/site-packages (from python-arango) (2.10.1)\n",
      "Requirement already satisfied: setuptools>=42 in /Users/sylvesterduah/Documents/Code/De_Alignment/align/lib/python3.12/site-packages (from python-arango) (75.8.0)\n",
      "Requirement already satisfied: importlib_metadata>=4.7.1 in /Users/sylvesterduah/Documents/Code/De_Alignment/align/lib/python3.12/site-packages (from python-arango) (8.6.1)\n",
      "Requirement already satisfied: packaging>=23.1 in /Users/sylvesterduah/Documents/Code/De_Alignment/align/lib/python3.12/site-packages (from python-arango) (24.2)\n",
      "Requirement already satisfied: zipp>=3.20 in /Users/sylvesterduah/Documents/Code/De_Alignment/align/lib/python3.12/site-packages (from importlib_metadata>=4.7.1->python-arango) (3.21.0)\n",
      "Requirement already satisfied: charset-normalizer<4,>=2 in /Users/sylvesterduah/Documents/Code/De_Alignment/align/lib/python3.12/site-packages (from requests->python-arango) (3.4.1)\n",
      "Requirement already satisfied: idna<4,>=2.5 in /Users/sylvesterduah/Documents/Code/De_Alignment/align/lib/python3.12/site-packages (from requests->python-arango) (3.10)\n",
      "Requirement already satisfied: certifi>=2017.4.17 in /Users/sylvesterduah/Documents/Code/De_Alignment/align/lib/python3.12/site-packages (from requests->python-arango) (2025.1.31)\n",
      "\n",
      "\u001b[1m[\u001b[0m\u001b[34;49mnotice\u001b[0m\u001b[1;39;49m]\u001b[0m\u001b[39;49m A new release of pip is available: \u001b[0m\u001b[31;49m24.3.1\u001b[0m\u001b[39;49m -> \u001b[0m\u001b[32;49m25.0.1\u001b[0m\n",
      "\u001b[1m[\u001b[0m\u001b[34;49mnotice\u001b[0m\u001b[1;39;49m]\u001b[0m\u001b[39;49m To update, run: \u001b[0m\u001b[32;49mpip install --upgrade pip\u001b[0m\n"
     ]
    }
   ],
   "source": [
    "!pip install python-arango --upgrade"
   ]
  },
  {
   "cell_type": "code",
   "execution_count": 7,
   "metadata": {},
   "outputs": [],
   "source": [
    "# Import Libraries\n",
    "from arango import ArangoClient\n",
    "import networkx as nx\n"
   ]
  },
  {
   "cell_type": "code",
   "execution_count": 8,
   "metadata": {},
   "outputs": [
    {
     "name": "stderr",
     "output_type": "stream",
     "text": [
      "WARNING:urllib3.connectionpool:Retrying (Retry(total=2, connect=None, read=None, redirect=None, status=None)) after connection broken by 'NewConnectionError('<urllib3.connection.HTTPConnection object at 0x10a977020>: Failed to establish a new connection: [Errno 61] Connection refused')': /_db/_system/_api/database\n",
      "WARNING:urllib3.connectionpool:Retrying (Retry(total=1, connect=None, read=None, redirect=None, status=None)) after connection broken by 'NewConnectionError('<urllib3.connection.HTTPConnection object at 0x10a976cf0>: Failed to establish a new connection: [Errno 61] Connection refused')': /_db/_system/_api/database\n",
      "WARNING:urllib3.connectionpool:Retrying (Retry(total=0, connect=None, read=None, redirect=None, status=None)) after connection broken by 'NewConnectionError('<urllib3.connection.HTTPConnection object at 0x10a976ae0>: Failed to establish a new connection: [Errno 61] Connection refused')': /_db/_system/_api/database\n",
      "WARNING:urllib3.connectionpool:Retrying (Retry(total=2, connect=None, read=None, redirect=None, status=None)) after connection broken by 'NewConnectionError('<urllib3.connection.HTTPConnection object at 0x10a976390>: Failed to establish a new connection: [Errno 61] Connection refused')': /_db/_system/_api/database\n",
      "WARNING:urllib3.connectionpool:Retrying (Retry(total=1, connect=None, read=None, redirect=None, status=None)) after connection broken by 'NewConnectionError('<urllib3.connection.HTTPConnection object at 0x10a976060>: Failed to establish a new connection: [Errno 61] Connection refused')': /_db/_system/_api/database\n",
      "WARNING:urllib3.connectionpool:Retrying (Retry(total=0, connect=None, read=None, redirect=None, status=None)) after connection broken by 'NewConnectionError('<urllib3.connection.HTTPConnection object at 0x10a975c40>: Failed to establish a new connection: [Errno 61] Connection refused')': /_db/_system/_api/database\n"
     ]
    },
    {
     "ename": "ConnectionAbortedError",
     "evalue": "Can't connect to host(s) within limit (3)",
     "output_type": "error",
     "traceback": [
      "\u001b[0;31m---------------------------------------------------------------------------\u001b[0m",
      "\u001b[0;31mConnectionAbortedError\u001b[0m                    Traceback (most recent call last)",
      "Cell \u001b[0;32mIn[8], line 34\u001b[0m\n\u001b[1;32m     31\u001b[0m     \u001b[38;5;28mprint\u001b[39m(\u001b[38;5;124mf\u001b[39m\u001b[38;5;124m\"\u001b[39m\u001b[38;5;124mGraph \u001b[39m\u001b[38;5;124m'\u001b[39m\u001b[38;5;132;01m{\u001b[39;00mgraph_name\u001b[38;5;132;01m}\u001b[39;00m\u001b[38;5;124m'\u001b[39m\u001b[38;5;124m loaded into ArangoDB.\u001b[39m\u001b[38;5;124m\"\u001b[39m)\n\u001b[1;32m     33\u001b[0m G \u001b[38;5;241m=\u001b[39m nx\u001b[38;5;241m.\u001b[39mread_graphml(\u001b[38;5;124m\"\u001b[39m\u001b[38;5;124mgraph.graphml\u001b[39m\u001b[38;5;124m\"\u001b[39m)\n\u001b[0;32m---> 34\u001b[0m \u001b[43mload_graph_to_arangodb\u001b[49m\u001b[43m(\u001b[49m\u001b[43mG\u001b[49m\u001b[43m)\u001b[49m\n",
      "Cell \u001b[0;32mIn[8], line 7\u001b[0m, in \u001b[0;36mload_graph_to_arangodb\u001b[0;34m(graph, db_name, graph_name)\u001b[0m\n\u001b[1;32m      5\u001b[0m \u001b[38;5;66;03m# Connect to \"_system\" database as root user.\u001b[39;00m\n\u001b[1;32m      6\u001b[0m sys_db \u001b[38;5;241m=\u001b[39m client\u001b[38;5;241m.\u001b[39mdb(\u001b[38;5;124m\"\u001b[39m\u001b[38;5;124m_system\u001b[39m\u001b[38;5;124m\"\u001b[39m, username\u001b[38;5;241m=\u001b[39m\u001b[38;5;124m\"\u001b[39m\u001b[38;5;124mroot\u001b[39m\u001b[38;5;124m\"\u001b[39m, password\u001b[38;5;241m=\u001b[39m\u001b[38;5;124m\"\u001b[39m\u001b[38;5;124mpasswd\u001b[39m\u001b[38;5;124m\"\u001b[39m)\n\u001b[0;32m----> 7\u001b[0m \u001b[38;5;28;01mif\u001b[39;00m \u001b[38;5;129;01mnot\u001b[39;00m \u001b[43msys_db\u001b[49m\u001b[38;5;241;43m.\u001b[39;49m\u001b[43mhas_database\u001b[49m\u001b[43m(\u001b[49m\u001b[43mdb_name\u001b[49m\u001b[43m)\u001b[49m:\n\u001b[1;32m      8\u001b[0m     sys_db\u001b[38;5;241m.\u001b[39mcreate_database(db_name)\n\u001b[1;32m      9\u001b[0m db \u001b[38;5;241m=\u001b[39m client\u001b[38;5;241m.\u001b[39mdb(db_name, username\u001b[38;5;241m=\u001b[39m\u001b[38;5;124m\"\u001b[39m\u001b[38;5;124mroot\u001b[39m\u001b[38;5;124m\"\u001b[39m, password\u001b[38;5;241m=\u001b[39m\u001b[38;5;124m\"\u001b[39m\u001b[38;5;124m\"\u001b[39m)\n",
      "File \u001b[0;32m~/Documents/Code/De_Alignment/align/lib/python3.12/site-packages/arango/database.py:1271\u001b[0m, in \u001b[0;36mDatabase.has_database\u001b[0;34m(self, name)\u001b[0m\n\u001b[1;32m   1268\u001b[0m         \u001b[38;5;28;01mraise\u001b[39;00m DatabaseListError(resp, request)\n\u001b[1;32m   1269\u001b[0m     \u001b[38;5;28;01mreturn\u001b[39;00m name \u001b[38;5;129;01min\u001b[39;00m resp\u001b[38;5;241m.\u001b[39mbody[\u001b[38;5;124m\"\u001b[39m\u001b[38;5;124mresult\u001b[39m\u001b[38;5;124m\"\u001b[39m]\n\u001b[0;32m-> 1271\u001b[0m \u001b[38;5;28;01mreturn\u001b[39;00m \u001b[38;5;28;43mself\u001b[39;49m\u001b[38;5;241;43m.\u001b[39;49m\u001b[43m_execute\u001b[49m\u001b[43m(\u001b[49m\u001b[43mrequest\u001b[49m\u001b[43m,\u001b[49m\u001b[43m \u001b[49m\u001b[43mresponse_handler\u001b[49m\u001b[43m)\u001b[49m\n",
      "File \u001b[0;32m~/Documents/Code/De_Alignment/align/lib/python3.12/site-packages/arango/api.py:74\u001b[0m, in \u001b[0;36mApiGroup._execute\u001b[0;34m(self, request, response_handler)\u001b[0m\n\u001b[1;32m     63\u001b[0m \u001b[38;5;28;01mdef\u001b[39;00m\u001b[38;5;250m \u001b[39m\u001b[38;5;21m_execute\u001b[39m(\n\u001b[1;32m     64\u001b[0m     \u001b[38;5;28mself\u001b[39m, request: Request, response_handler: Callable[[Response], T]\n\u001b[1;32m     65\u001b[0m ) \u001b[38;5;241m-\u001b[39m\u001b[38;5;241m>\u001b[39m Result[T]:\n\u001b[1;32m     66\u001b[0m \u001b[38;5;250m    \u001b[39m\u001b[38;5;124;03m\"\"\"Execute an API.\u001b[39;00m\n\u001b[1;32m     67\u001b[0m \n\u001b[1;32m     68\u001b[0m \u001b[38;5;124;03m    :param request: HTTP request.\u001b[39;00m\n\u001b[0;32m   (...)\u001b[0m\n\u001b[1;32m     72\u001b[0m \u001b[38;5;124;03m    :return: API execution result.\u001b[39;00m\n\u001b[1;32m     73\u001b[0m \u001b[38;5;124;03m    \"\"\"\u001b[39;00m\n\u001b[0;32m---> 74\u001b[0m     \u001b[38;5;28;01mreturn\u001b[39;00m \u001b[38;5;28;43mself\u001b[39;49m\u001b[38;5;241;43m.\u001b[39;49m\u001b[43m_executor\u001b[49m\u001b[38;5;241;43m.\u001b[39;49m\u001b[43mexecute\u001b[49m\u001b[43m(\u001b[49m\u001b[43mrequest\u001b[49m\u001b[43m,\u001b[49m\u001b[43m \u001b[49m\u001b[43mresponse_handler\u001b[49m\u001b[43m)\u001b[49m\n",
      "File \u001b[0;32m~/Documents/Code/De_Alignment/align/lib/python3.12/site-packages/arango/executor.py:66\u001b[0m, in \u001b[0;36mDefaultApiExecutor.execute\u001b[0;34m(self, request, response_handler)\u001b[0m\n\u001b[1;32m     57\u001b[0m \u001b[38;5;28;01mdef\u001b[39;00m\u001b[38;5;250m \u001b[39m\u001b[38;5;21mexecute\u001b[39m(\u001b[38;5;28mself\u001b[39m, request: Request, response_handler: Callable[[Response], T]) \u001b[38;5;241m-\u001b[39m\u001b[38;5;241m>\u001b[39m T:\n\u001b[1;32m     58\u001b[0m \u001b[38;5;250m    \u001b[39m\u001b[38;5;124;03m\"\"\"Execute an API request and return the result.\u001b[39;00m\n\u001b[1;32m     59\u001b[0m \n\u001b[1;32m     60\u001b[0m \u001b[38;5;124;03m    :param request: HTTP request.\u001b[39;00m\n\u001b[0;32m   (...)\u001b[0m\n\u001b[1;32m     64\u001b[0m \u001b[38;5;124;03m    :return: API execution result.\u001b[39;00m\n\u001b[1;32m     65\u001b[0m \u001b[38;5;124;03m    \"\"\"\u001b[39;00m\n\u001b[0;32m---> 66\u001b[0m     resp \u001b[38;5;241m=\u001b[39m \u001b[38;5;28;43mself\u001b[39;49m\u001b[38;5;241;43m.\u001b[39;49m\u001b[43m_conn\u001b[49m\u001b[38;5;241;43m.\u001b[39;49m\u001b[43msend_request\u001b[49m\u001b[43m(\u001b[49m\u001b[43mrequest\u001b[49m\u001b[43m)\u001b[49m\n\u001b[1;32m     67\u001b[0m     \u001b[38;5;28;01mreturn\u001b[39;00m response_handler(resp)\n",
      "File \u001b[0;32m~/Documents/Code/De_Alignment/align/lib/python3.12/site-packages/arango/connection.py:311\u001b[0m, in \u001b[0;36mBasicConnection.send_request\u001b[0;34m(self, request)\u001b[0m\n\u001b[1;32m    303\u001b[0m \u001b[38;5;250m\u001b[39m\u001b[38;5;124;03m\"\"\"Send an HTTP request to ArangoDB server.\u001b[39;00m\n\u001b[1;32m    304\u001b[0m \n\u001b[1;32m    305\u001b[0m \u001b[38;5;124;03m:param request: HTTP request.\u001b[39;00m\n\u001b[0;32m   (...)\u001b[0m\n\u001b[1;32m    308\u001b[0m \u001b[38;5;124;03m:rtype: arango.response.Response\u001b[39;00m\n\u001b[1;32m    309\u001b[0m \u001b[38;5;124;03m\"\"\"\u001b[39;00m\n\u001b[1;32m    310\u001b[0m host_index \u001b[38;5;241m=\u001b[39m \u001b[38;5;28mself\u001b[39m\u001b[38;5;241m.\u001b[39m_host_resolver\u001b[38;5;241m.\u001b[39mget_host_index()\n\u001b[0;32m--> 311\u001b[0m \u001b[38;5;28;01mreturn\u001b[39;00m \u001b[38;5;28;43mself\u001b[39;49m\u001b[38;5;241;43m.\u001b[39;49m\u001b[43mprocess_request\u001b[49m\u001b[43m(\u001b[49m\u001b[43mhost_index\u001b[49m\u001b[43m,\u001b[49m\u001b[43m \u001b[49m\u001b[43mrequest\u001b[49m\u001b[43m,\u001b[49m\u001b[43m \u001b[49m\u001b[43mauth\u001b[49m\u001b[38;5;241;43m=\u001b[39;49m\u001b[38;5;28;43mself\u001b[39;49m\u001b[38;5;241;43m.\u001b[39;49m\u001b[43m_auth\u001b[49m\u001b[43m)\u001b[49m\n",
      "File \u001b[0;32m~/Documents/Code/De_Alignment/align/lib/python3.12/site-packages/arango/connection.py:178\u001b[0m, in \u001b[0;36mBaseConnection.process_request\u001b[0;34m(self, host_index, request, auth)\u001b[0m\n\u001b[1;32m    175\u001b[0m         host_index \u001b[38;5;241m=\u001b[39m \u001b[38;5;28mself\u001b[39m\u001b[38;5;241m.\u001b[39m_host_resolver\u001b[38;5;241m.\u001b[39mget_host_index(indexes_to_filter)\n\u001b[1;32m    176\u001b[0m         tries \u001b[38;5;241m+\u001b[39m\u001b[38;5;241m=\u001b[39m \u001b[38;5;241m1\u001b[39m\n\u001b[0;32m--> 178\u001b[0m \u001b[38;5;28;01mraise\u001b[39;00m \u001b[38;5;167;01mConnectionAbortedError\u001b[39;00m(\n\u001b[1;32m    179\u001b[0m     \u001b[38;5;124mf\u001b[39m\u001b[38;5;124m\"\u001b[39m\u001b[38;5;124mCan\u001b[39m\u001b[38;5;124m'\u001b[39m\u001b[38;5;124mt connect to host(s) within limit (\u001b[39m\u001b[38;5;132;01m{\u001b[39;00m\u001b[38;5;28mself\u001b[39m\u001b[38;5;241m.\u001b[39m_host_resolver\u001b[38;5;241m.\u001b[39mmax_tries\u001b[38;5;132;01m}\u001b[39;00m\u001b[38;5;124m)\u001b[39m\u001b[38;5;124m\"\u001b[39m\n\u001b[1;32m    180\u001b[0m )\n",
      "\u001b[0;31mConnectionAbortedError\u001b[0m: Can't connect to host(s) within limit (3)"
     ]
    }
   ],
   "source": [
    "# Load graph into ArangoDB\n",
    "def load_graph_to_arangodb(graph, db_name=\"graph_db\", graph_name=\"ai_incidents_graph\"):\n",
    "    # Initialization of the arrangodb\n",
    "    client = ArangoClient(hosts=\"http://localhost:8529\")\n",
    "    # Connect to \"_system\" database as root user.\n",
    "    sys_db = client.db(\"_system\", username=\"root\", password=\"passwd\")\n",
    "    if not sys_db.has_database(db_name):\n",
    "        sys_db.create_database(db_name)\n",
    "    db = client.db(db_name, username=\"root\", password=\"\")\n",
    "    if not db.has_graph(graph_name):\n",
    "        graph_collection = db.create_graph(graph_name)\n",
    "    graph_collection = db.graph(graph_name)\n",
    "    if not graph_collection.has_vertex_collection(\"nodes\"):\n",
    "        graph_collection.create_vertex_collection(\"nodes\")\n",
    "    if not graph_collection.has_edge_collection(\"edges\"):\n",
    "        graph_collection.create_edge_definition(\n",
    "            edge_collection=\"edges\",\n",
    "            from_vertex_collections=[\"nodes\"],\n",
    "            to_vertex_collections=[\"nodes\"]\n",
    "        )\n",
    "    nodes_collection = db.collection(\"nodes\")\n",
    "    for node in graph.nodes():\n",
    "        nodes_collection.insert({\"_key\": str(node)})\n",
    "    edges_collection = db.collection(\"edges\")\n",
    "    for edge in graph.edges(data=True):\n",
    "        edges_collection.insert({\n",
    "            \"_from\": f\"nodes/{edge[0]}\",\n",
    "            \"_to\": f\"nodes/{edge[1]}\",\n",
    "            \"weight\": edge[2].get(\"weight\", 1)\n",
    "        })\n",
    "    print(f\"Graph '{graph_name}' loaded into ArangoDB.\")\n",
    "\n",
    "G = nx.read_graphml(\"graph.graphml\")\n",
    "load_graph_to_arangodb(G)"
   ]
  }
 ],
 "metadata": {
  "kernelspec": {
   "display_name": "align",
   "language": "python",
   "name": "python3"
  },
  "language_info": {
   "codemirror_mode": {
    "name": "ipython",
    "version": 3
   },
   "file_extension": ".py",
   "mimetype": "text/x-python",
   "name": "python",
   "nbconvert_exporter": "python",
   "pygments_lexer": "ipython3",
   "version": "3.12.2"
  }
 },
 "nbformat": 4,
 "nbformat_minor": 2
}
