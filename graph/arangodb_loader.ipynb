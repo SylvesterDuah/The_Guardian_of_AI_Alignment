{
 "cells": [
  {
   "cell_type": "code",
   "execution_count": null,
   "metadata": {},
   "outputs": [],
   "source": [
    "# Import Libraries\n",
    "from arango import ArangoClient\n",
    "import networkx as nx\n",
    "\n",
    "# Load graph into ArangoDB\n",
    "def load_graph_to_arangodb(graph, db_name=\"graph_db\", graph_name=\"ai_incidents_graph\"):\n",
    "    client = ArangoClient(hosts=\"http://localhost:8529\")\n",
    "    sys_db = client.db(\"_system\", username=\"root\", password=\"\")\n",
    "    if not sys_db.has_database(db_name):\n",
    "        sys_db.create_database(db_name)\n",
    "    db = client.db(db_name, username=\"root\", password=\"\")\n",
    "    if not db.has_graph(graph_name):\n",
    "        graph_collection = db.create_graph(graph_name)\n",
    "    graph_collection = db.graph(graph_name)\n",
    "    if not graph_collection.has_vertex_collection(\"nodes\"):\n",
    "        graph_collection.create_vertex_collection(\"nodes\")\n",
    "    if not graph_collection.has_edge_collection(\"edges\"):\n",
    "        graph_collection.create_edge_definition(\n",
    "            edge_collection=\"edges\",\n",
    "            from_vertex_collections=[\"nodes\"],\n",
    "            to_vertex_collections=[\"nodes\"]\n",
    "        )\n",
    "    nodes_collection = db.collection(\"nodes\")\n",
    "    for node in graph.nodes():\n",
    "        nodes_collection.insert({\"_key\": str(node)})\n",
    "    edges_collection = db.collection(\"edges\")\n",
    "    for edge in graph.edges(data=True):\n",
    "        edges_collection.insert({\n",
    "            \"_from\": f\"nodes/{edge[0]}\",\n",
    "            \"_to\": f\"nodes/{edge[1]}\",\n",
    "            \"weight\": edge[2].get(\"weight\", 1)\n",
    "        })\n",
    "    print(f\"Graph '{graph_name}' loaded into ArangoDB.\")\n",
    "\n",
    "G = nx.read_graphml(\"data/graph/graph.graphml\")\n",
    "load_graph_to_arangodb(G)"
   ]
  }
 ],
 "metadata": {
  "kernelspec": {
   "display_name": "align",
   "language": "python",
   "name": "python3"
  },
  "language_info": {
   "name": "python",
   "version": "3.12.2"
  }
 },
 "nbformat": 4,
 "nbformat_minor": 2
}
