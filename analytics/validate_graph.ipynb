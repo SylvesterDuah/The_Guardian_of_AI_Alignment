{
 "cells": [
  {
   "cell_type": "code",
   "execution_count": 1,
   "metadata": {},
   "outputs": [],
   "source": [
    "# Step 1: Import Libraries\n",
    "from arango import ArangoClient"
   ]
  },
  {
   "cell_type": "code",
   "execution_count": 2,
   "metadata": {},
   "outputs": [],
   "source": [
    "# Step 2: Define the Function\n",
    "def validate_graph(db_name=\"graph_db\", graph_name=\"ai_incidents_graph\"):\n",
    "    \"\"\"\n",
    "    Validate the graph structure in ArangoDB by running sample queries.\n",
    "    \"\"\"\n",
    "    try:\n",
    "        # Initialize the ArangoDB client\n",
    "        client = ArangoClient(hosts=\"http://localhost:8529\")\n",
    "\n",
    "        # Connect to the database\n",
    "        db = client.db(db_name, username=\"root\", password=\"passwd\")\n",
    "\n",
    "        # Query 1: Count the number of nodes\n",
    "        node_count = db.collection(\"nodes\").count()\n",
    "        print(f\"Number of nodes: {node_count}\")\n",
    "\n",
    "        # Query 2: Count the number of edges\n",
    "        edge_count = db.collection(\"edges\").count()\n",
    "        print(f\"Number of edges: {edge_count}\")\n",
    "\n",
    "        # Query 3: Get the first 5 nodes\n",
    "        print(\"\\nFirst 5 nodes:\")\n",
    "        for node in db.collection(\"nodes\").all(limit=5):\n",
    "            print(node)\n",
    "\n",
    "        # Query 4: Get the first 5 edges\n",
    "        print(\"\\nFirst 5 edges:\")\n",
    "        for edge in db.collection(\"edges\").all(limit=5):\n",
    "            print(edge)\n",
    "\n",
    "        # Query 5: Get the neighbors of a sample node\n",
    "        sample_node = db.collection(\"nodes\").all(limit=1).next()[\"_key\"]\n",
    "        print(f\"\\nNeighbors of node '{sample_node}':\")\n",
    "        neighbors = db.aql.execute(\n",
    "            f\"FOR v IN 1..1 ANY 'nodes/{sample_node}' edges RETURN v\"\n",
    "        )\n",
    "        for neighbor in neighbors:\n",
    "            print(neighbor)\n",
    "\n",
    "    except Exception as e:\n",
    "        print(f\"Error validating graph: {e}\")"
   ]
  },
  {
   "cell_type": "code",
   "execution_count": 3,
   "metadata": {},
   "outputs": [
    {
     "name": "stdout",
     "output_type": "stream",
     "text": [
      "Number of nodes: 487\n",
      "Number of edges: 0\n",
      "\n",
      "First 5 nodes:\n",
      "{'_key': 'Content_Recommendation,_Content_Search,_Hate_Speech_Detection,_NSFW_Content_Detection', '_id': 'nodes/Content_Recommendation,_Content_Search,_Hate_Speech_Detection,_NSFW_Content_Detection', '_rev': '_jO9ChmS---'}\n",
      "{'_key': 'Content-based_Filtering,_Collaborative_Filtering', '_id': 'nodes/Content-based_Filtering,_Collaborative_Filtering', '_rev': '_jO9Chma---'}\n",
      "{'_key': 'Hate_Speech_Detection', '_id': 'nodes/Hate_Speech_Detection', '_rev': '_jO9Chme---'}\n",
      "{'_key': 'Character_NGrams', '_id': 'nodes/Character_NGrams', '_rev': '_jO9Chmm---'}\n",
      "{'_key': 'Autonomous_Driving', '_id': 'nodes/Autonomous_Driving', '_rev': '_jO9Chmu---'}\n",
      "\n",
      "First 5 edges:\n",
      "\n",
      "Neighbors of node 'Content_Recommendation,_Content_Search,_Hate_Speech_Detection,_NSFW_Content_Detection':\n"
     ]
    }
   ],
   "source": [
    "# Step 3: Example Usage\n",
    "validate_graph()"
   ]
  }
 ],
 "metadata": {
  "kernelspec": {
   "display_name": "align",
   "language": "python",
   "name": "python3"
  },
  "language_info": {
   "codemirror_mode": {
    "name": "ipython",
    "version": 3
   },
   "file_extension": ".py",
   "mimetype": "text/x-python",
   "name": "python",
   "nbconvert_exporter": "python",
   "pygments_lexer": "ipython3",
   "version": "3.12.2"
  }
 },
 "nbformat": 4,
 "nbformat_minor": 2
}
