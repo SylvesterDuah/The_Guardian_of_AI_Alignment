{
 "cells": [
  {
   "cell_type": "code",
   "execution_count": 1,
   "metadata": {},
   "outputs": [],
   "source": [
    "from arango import ArangoClient"
   ]
  },
  {
   "cell_type": "code",
   "execution_count": 2,
   "metadata": {},
   "outputs": [],
   "source": [
    "def find_direct_connections(node_key, db_name=\"graph_db\", graph_name=\"ai_incidents_graph\"):\n",
    "    \"\"\"\n",
    "    Find direct connections of a given node using AQL.\n",
    "    \"\"\"\n",
    "    try:\n",
    "        # Initialize the ArangoDB client\n",
    "        client = ArangoClient(hosts=\"http://localhost:8529\")\n",
    "\n",
    "        # Connect to the database\n",
    "        db = client.db(db_name, username=\"root\", password=\"passwd\")\n",
    "\n",
    "        # Define the AQL query\n",
    "        query = f\"\"\"\n",
    "        FOR v IN 1..1 ANY 'nodes/{node_key}' edges\n",
    "        RETURN v\n",
    "        \"\"\"\n",
    "\n",
    "        # Execute the query\n",
    "        cursor = db.aql.execute(query)\n",
    "        results = [doc for doc in cursor]\n",
    "\n",
    "        return results\n",
    "\n",
    "    except Exception as e:\n",
    "        print(f\"Error executing query: {e}\")\n",
    "        return []"
   ]
  },
  {
   "cell_type": "code",
   "execution_count": 3,
   "metadata": {},
   "outputs": [
    {
     "name": "stdout",
     "output_type": "stream",
     "text": [
      "Direct connections of 'Content_Recommendation_0':\n"
     ]
    }
   ],
   "source": [
    "# Example usage\n",
    "if __name__ == \"__main__\":\n",
    "    node_key = \"Content_Recommendation_0\"\n",
    "    connections = find_direct_connections(node_key)\n",
    "    print(f\"Direct connections of '{node_key}':\")\n",
    "    for connection in connections:\n",
    "        print(connection)"
   ]
  }
 ],
 "metadata": {
  "kernelspec": {
   "display_name": "align",
   "language": "python",
   "name": "python3"
  },
  "language_info": {
   "codemirror_mode": {
    "name": "ipython",
    "version": 3
   },
   "file_extension": ".py",
   "mimetype": "text/x-python",
   "name": "python",
   "nbconvert_exporter": "python",
   "pygments_lexer": "ipython3",
   "version": "3.12.2"
  }
 },
 "nbformat": 4,
 "nbformat_minor": 2
}
