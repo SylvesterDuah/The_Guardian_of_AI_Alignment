{
 "cells": [
  {
   "cell_type": "code",
   "execution_count": null,
   "metadata": {},
   "outputs": [],
   "source": [
    "# Step 1: Import Libraries\n",
    "from arango import ArangoClient\n",
    "import networkx as nx"
   ]
  },
  {
   "cell_type": "code",
   "execution_count": null,
   "metadata": {},
   "outputs": [],
   "source": [
    "# Step 2: Define the Function\n",
    "def persist_graph_to_arangodb(graph, db_name=\"graph_db\", graph_name=\"ai_incidents_graph\"):\n",
    "    \"\"\"\n",
    "    Persist a NetworkX graph to ArangoDB.\n",
    "    \"\"\"\n",
    "    try:\n",
    "        # Initialize the ArangoDB client\n",
    "        client = ArangoClient(hosts=\"http://localhost:8529\")\n",
    "\n",
    "        # Connect to the system database\n",
    "        sys_db = client.db(\"_system\", username=\"root\", password=\"passwd\")\n",
    "\n",
    "        # Create the database if it doesn't exist\n",
    "        if not sys_db.has_database(db_name):\n",
    "            sys_db.create_database(db_name)\n",
    "            print(f\"Database '{db_name}' created.\")\n",
    "\n",
    "        # Connect to the target database\n",
    "        db = client.db(db_name, username=\"root\", password=\"passwd\")\n",
    "\n",
    "        # Create the graph if it doesn't exist\n",
    "        if not db.has_graph(graph_name):\n",
    "            graph_collection = db.create_graph(graph_name)\n",
    "            print(f\"Graph '{graph_name}' created.\")\n",
    "\n",
    "        # Get the graph and collections\n",
    "        graph_collection = db.graph(graph_name)\n",
    "        if not graph_collection.has_vertex_collection(\"nodes\"):\n",
    "            graph_collection.create_vertex_collection(\"nodes\")\n",
    "            print(\"Collection 'nodes' created.\")\n",
    "\n",
    "        if not graph_collection.has_edge_collection(\"edges\"):\n",
    "            graph_collection.create_edge_definition(\n",
    "                edge_collection=\"edges\",\n",
    "                from_vertex_collections=[\"nodes\"],\n",
    "                to_vertex_collections=[\"nodes\"]\n",
    "            )\n",
    "            print(\"Collection 'edges' created.\")\n",
    "\n",
    "        # Add nodes to ArangoDB\n",
    "        nodes_collection = db.collection(\"nodes\")\n",
    "        for node in graph.nodes():\n",
    "            nodes_collection.insert({\"_key\": str(node)})\n",
    "\n",
    "        # Add edges to ArangoDB\n",
    "        edges_collection = db.collection(\"edges\")\n",
    "        for edge in graph.edges(data=True):\n",
    "            edges_collection.insert({\n",
    "                \"_from\": f\"nodes/{edge[0]}\",\n",
    "                \"_to\": f\"nodes/{edge[1]}\",\n",
    "                \"weight\": edge[2].get(\"weight\", 1)\n",
    "            })\n",
    "\n",
    "        print(f\"Graph '{graph_name}' loaded into ArangoDB.\")\n",
    "\n",
    "    except Exception as e:\n",
    "        print(f\"Error loading graph into ArangoDB: {e}\")"
   ]
  },
  {
   "cell_type": "code",
   "execution_count": null,
   "metadata": {},
   "outputs": [
    {
     "ename": "NameError",
     "evalue": "name 'nx' is not defined",
     "output_type": "error",
     "traceback": [
      "\u001b[0;31m---------------------------------------------------------------------------\u001b[0m",
      "\u001b[0;31mNameError\u001b[0m                                 Traceback (most recent call last)",
      "Cell \u001b[0;32mIn[2], line 3\u001b[0m\n\u001b[1;32m      1\u001b[0m \u001b[38;5;66;03m# Step 3: Example Usage\u001b[39;00m\n\u001b[1;32m      2\u001b[0m \u001b[38;5;66;03m# Load the graph from the saved file\u001b[39;00m\n\u001b[0;32m----> 3\u001b[0m G \u001b[38;5;241m=\u001b[39m \u001b[43mnx\u001b[49m\u001b[38;5;241m.\u001b[39mread_graphml(\u001b[38;5;124m\"\u001b[39m\u001b[38;5;124mgraph.graphml\u001b[39m\u001b[38;5;124m\"\u001b[39m)\n\u001b[1;32m      5\u001b[0m \u001b[38;5;66;03m# Persist the graph to ArangoDB\u001b[39;00m\n\u001b[1;32m      6\u001b[0m persist_graph_to_arangodb(G)\n",
      "\u001b[0;31mNameError\u001b[0m: name 'nx' is not defined"
     ]
    }
   ],
   "source": [
    "# Step 3: Example Usage\n",
    "# Load the graph from the saved file\n",
    "G = nx.read_graphml(\"graph.graphml\")\n",
    "\n",
    "# Persist the graph to ArangoDB\n",
    "persist_graph_to_arangodb(G)"
   ]
  }
 ],
 "metadata": {
  "kernelspec": {
   "display_name": "align",
   "language": "python",
   "name": "python3"
  },
  "language_info": {
   "codemirror_mode": {
    "name": "ipython",
    "version": 3
   },
   "file_extension": ".py",
   "mimetype": "text/x-python",
   "name": "python",
   "nbconvert_exporter": "python",
   "pygments_lexer": "ipython3",
   "version": "3.10.16"
  }
 },
 "nbformat": 4,
 "nbformat_minor": 2
}
