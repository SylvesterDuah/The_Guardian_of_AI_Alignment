{
 "cells": [
  {
   "cell_type": "code",
   "execution_count": 1,
   "metadata": {},
   "outputs": [
    {
     "ename": "ModuleNotFoundError",
     "evalue": "No module named 'cugraph'",
     "output_type": "error",
     "traceback": [
      "\u001b[0;31m---------------------------------------------------------------------------\u001b[0m",
      "\u001b[0;31mModuleNotFoundError\u001b[0m                       Traceback (most recent call last)",
      "Cell \u001b[0;32mIn[1], line 1\u001b[0m\n\u001b[0;32m----> 1\u001b[0m \u001b[38;5;28;01mimport\u001b[39;00m\u001b[38;5;250m \u001b[39m\u001b[38;5;21;01mcugraph\u001b[39;00m\n\u001b[1;32m      2\u001b[0m \u001b[38;5;28;01mimport\u001b[39;00m\u001b[38;5;250m \u001b[39m\u001b[38;5;21;01mcudf\u001b[39;00m\n\u001b[1;32m      3\u001b[0m \u001b[38;5;28;01mimport\u001b[39;00m\u001b[38;5;250m \u001b[39m\u001b[38;5;21;01mnetworkx\u001b[39;00m\u001b[38;5;250m \u001b[39m\u001b[38;5;28;01mas\u001b[39;00m\u001b[38;5;250m \u001b[39m\u001b[38;5;21;01mnx\u001b[39;00m\n",
      "\u001b[0;31mModuleNotFoundError\u001b[0m: No module named 'cugraph'"
     ]
    }
   ],
   "source": [
    "import cugraph\n",
    "import cudf\n",
    "import networkx as nx"
   ]
  },
  {
   "cell_type": "code",
   "execution_count": null,
   "metadata": {},
   "outputs": [],
   "source": [
    "def pagerank(graph):\n",
    "    \"\"\"\n",
    "    Compute PageRank for the graph using cuGraph.\n",
    "    \"\"\"\n",
    "    # Convert NetworkX graph to cuGraph graph\n",
    "    edges = [(u, v) for u, v in graph.edges()]\n",
    "    df = cudf.DataFrame(edges, columns=[\"src\", \"dst\"])\n",
    "    g = cugraph.Graph()\n",
    "    g.from_cudf_edgelist(df, source=\"src\", destination=\"dst\")\n",
    "\n",
    "    # Compute PageRank\n",
    "    pagerank_df = cugraph.pagerank(g)\n",
    "    return pagerank_df"
   ]
  },
  {
   "cell_type": "code",
   "execution_count": null,
   "metadata": {},
   "outputs": [],
   "source": [
    "def community_detection(graph):\n",
    "    \"\"\"\n",
    "    Detect communities in the graph using cuGraph.\n",
    "    \"\"\"\n",
    "    # Convert NetworkX graph to cuGraph graph\n",
    "    edges = [(u, v) for u, v in graph.edges()]\n",
    "    df = cudf.DataFrame(edges, columns=[\"src\", \"dst\"])\n",
    "    g = cugraph.Graph()\n",
    "    g.from_cudf_edgelist(df, source=\"src\", destination=\"dst\")\n",
    "\n",
    "    # Detect communities\n",
    "    communities_df = cugraph.louvain(g)\n",
    "    return communities_df"
   ]
  },
  {
   "cell_type": "code",
   "execution_count": null,
   "metadata": {},
   "outputs": [],
   "source": [
    "# Example usage\n",
    "if __name__ == \"__main__\":\n",
    "    # Load the graph from the saved file\n",
    "    G = nx.read_graphml(\"graph.graphml\")\n",
    "\n",
    "    # Compute PageRank\n",
    "    pagerank_df = pagerank(G)\n",
    "    print(\"PageRank:\")\n",
    "    print(pagerank_df)\n",
    "\n",
    "    # Detect communities\n",
    "    communities_df = community_detection(G)\n",
    "    print(\"Communities:\")\n",
    "    print(communities_df)"
   ]
  }
 ],
 "metadata": {
  "kernelspec": {
   "display_name": "align",
   "language": "python",
   "name": "python3"
  },
  "language_info": {
   "codemirror_mode": {
    "name": "ipython",
    "version": 3
   },
   "file_extension": ".py",
   "mimetype": "text/x-python",
   "name": "python",
   "nbconvert_exporter": "python",
   "pygments_lexer": "ipython3",
   "version": "3.12.2"
  }
 },
 "nbformat": 4,
 "nbformat_minor": 2
}
