{
 "cells": [
  {
   "cell_type": "code",
   "execution_count": 15,
   "metadata": {},
   "outputs": [
    {
     "name": "stdout",
     "output_type": "stream",
     "text": [
      "Collecting cugraph-cu12\n",
      "  Using cached cugraph_cu12-25.2.0.tar.gz (4.2 kB)\n",
      "  Installing build dependencies ... \u001b[?25ldone\n",
      "\u001b[?25h  Getting requirements to build wheel ... \u001b[?25ldone\n",
      "\u001b[?25h  Preparing metadata (pyproject.toml) ... \u001b[?25lerror\n",
      "  \u001b[1;31merror\u001b[0m: \u001b[1msubprocess-exited-with-error\u001b[0m\n",
      "  \n",
      "  \u001b[31m×\u001b[0m \u001b[32mPreparing metadata \u001b[0m\u001b[1;32m(\u001b[0m\u001b[32mpyproject.toml\u001b[0m\u001b[1;32m)\u001b[0m did not run successfully.\n",
      "  \u001b[31m│\u001b[0m exit code: \u001b[1;36m1\u001b[0m\n",
      "  \u001b[31m╰─>\u001b[0m \u001b[31m[67 lines of output]\u001b[0m\n",
      "  \u001b[31m   \u001b[0m INFO:wheel-stub:Testing wheel cugraph_cu12-25.2.0-cp310-cp310-manylinux_2_24_aarch64.manylinux_2_28_aarch64.whl against tag cp310-cp310-manylinux_2_28_aarch64\n",
      "  \u001b[31m   \u001b[0m INFO:wheel-stub:Testing wheel cugraph_cu12-25.2.0-cp310-cp310-manylinux_2_24_aarch64.manylinux_2_28_aarch64.whl against tag cp310-cp310-manylinux_2_24_aarch64\n",
      "  \u001b[31m   \u001b[0m INFO:wheel-stub:Testing wheel cugraph_cu12-25.2.0-cp310-cp310-manylinux_2_24_x86_64.manylinux_2_28_x86_64.whl against tag cp310-cp310-manylinux_2_24_x86_64\n",
      "  \u001b[31m   \u001b[0m INFO:wheel-stub:Testing wheel cugraph_cu12-25.2.0-cp310-cp310-manylinux_2_24_x86_64.manylinux_2_28_x86_64.whl against tag cp310-cp310-manylinux_2_28_x86_64\n",
      "  \u001b[31m   \u001b[0m INFO:wheel-stub:Testing wheel cugraph_cu12-25.2.0-cp311-cp311-manylinux_2_24_aarch64.manylinux_2_28_aarch64.whl against tag cp311-cp311-manylinux_2_28_aarch64\n",
      "  \u001b[31m   \u001b[0m INFO:wheel-stub:Testing wheel cugraph_cu12-25.2.0-cp311-cp311-manylinux_2_24_aarch64.manylinux_2_28_aarch64.whl against tag cp311-cp311-manylinux_2_24_aarch64\n",
      "  \u001b[31m   \u001b[0m INFO:wheel-stub:Testing wheel cugraph_cu12-25.2.0-cp311-cp311-manylinux_2_24_x86_64.manylinux_2_28_x86_64.whl against tag cp311-cp311-manylinux_2_24_x86_64\n",
      "  \u001b[31m   \u001b[0m INFO:wheel-stub:Testing wheel cugraph_cu12-25.2.0-cp311-cp311-manylinux_2_24_x86_64.manylinux_2_28_x86_64.whl against tag cp311-cp311-manylinux_2_28_x86_64\n",
      "  \u001b[31m   \u001b[0m INFO:wheel-stub:Testing wheel cugraph_cu12-25.2.0-cp312-cp312-manylinux_2_24_aarch64.manylinux_2_28_aarch64.whl against tag cp312-cp312-manylinux_2_24_aarch64\n",
      "  \u001b[31m   \u001b[0m INFO:wheel-stub:Testing wheel cugraph_cu12-25.2.0-cp312-cp312-manylinux_2_24_aarch64.manylinux_2_28_aarch64.whl against tag cp312-cp312-manylinux_2_28_aarch64\n",
      "  \u001b[31m   \u001b[0m INFO:wheel-stub:Testing wheel cugraph_cu12-25.2.0-cp312-cp312-manylinux_2_24_x86_64.manylinux_2_28_x86_64.whl against tag cp312-cp312-manylinux_2_24_x86_64\n",
      "  \u001b[31m   \u001b[0m INFO:wheel-stub:Testing wheel cugraph_cu12-25.2.0-cp312-cp312-manylinux_2_24_x86_64.manylinux_2_28_x86_64.whl against tag cp312-cp312-manylinux_2_28_x86_64\n",
      "  \u001b[31m   \u001b[0m   File \"/private/var/folders/7q/j2lypjp93_x38wr0rthx_ymh0000gn/T/pip-build-env-jl2we1fw/overlay/lib/python3.12/site-packages/wheel_stub/wheel.py\", line 249, in download_wheel\n",
      "  \u001b[31m   \u001b[0m     return download_manual(wheel_directory, distribution, version, config)\n",
      "  \u001b[31m   \u001b[0m            ^^^^^^^^^^^^^^^^^^^^^^^^^^^^^^^^^^^^^^^^^^^^^^^^^^^^^^^^^^^^^^^\n",
      "  \u001b[31m   \u001b[0m   File \"/private/var/folders/7q/j2lypjp93_x38wr0rthx_ymh0000gn/T/pip-build-env-jl2we1fw/overlay/lib/python3.12/site-packages/wheel_stub/wheel.py\", line 185, in download_manual\n",
      "  \u001b[31m   \u001b[0m     raise RuntimeError(f\"Didn't find wheel for {distribution} {version}\")\n",
      "  \u001b[31m   \u001b[0m Traceback (most recent call last):\n",
      "  \u001b[31m   \u001b[0m   File \"/private/var/folders/7q/j2lypjp93_x38wr0rthx_ymh0000gn/T/pip-build-env-jl2we1fw/overlay/lib/python3.12/site-packages/wheel_stub/wheel.py\", line 249, in download_wheel\n",
      "  \u001b[31m   \u001b[0m     return download_manual(wheel_directory, distribution, version, config)\n",
      "  \u001b[31m   \u001b[0m            ^^^^^^^^^^^^^^^^^^^^^^^^^^^^^^^^^^^^^^^^^^^^^^^^^^^^^^^^^^^^^^^\n",
      "  \u001b[31m   \u001b[0m   File \"/private/var/folders/7q/j2lypjp93_x38wr0rthx_ymh0000gn/T/pip-build-env-jl2we1fw/overlay/lib/python3.12/site-packages/wheel_stub/wheel.py\", line 185, in download_manual\n",
      "  \u001b[31m   \u001b[0m     raise RuntimeError(f\"Didn't find wheel for {distribution} {version}\")\n",
      "  \u001b[31m   \u001b[0m RuntimeError: Didn't find wheel for cugraph-cu12 25.2.0\n",
      "  \u001b[31m   \u001b[0m \n",
      "  \u001b[31m   \u001b[0m During handling of the above exception, another exception occurred:\n",
      "  \u001b[31m   \u001b[0m \n",
      "  \u001b[31m   \u001b[0m Traceback (most recent call last):\n",
      "  \u001b[31m   \u001b[0m   File \"/Users/sylvesterduah/Documents/Code/De_Alignment/align/lib/python3.12/site-packages/pip/_vendor/pyproject_hooks/_in_process/_in_process.py\", line 353, in <module>\n",
      "  \u001b[31m   \u001b[0m     main()\n",
      "  \u001b[31m   \u001b[0m   File \"/Users/sylvesterduah/Documents/Code/De_Alignment/align/lib/python3.12/site-packages/pip/_vendor/pyproject_hooks/_in_process/_in_process.py\", line 335, in main\n",
      "  \u001b[31m   \u001b[0m     json_out['return_val'] = hook(**hook_input['kwargs'])\n",
      "  \u001b[31m   \u001b[0m                              ^^^^^^^^^^^^^^^^^^^^^^^^^^^^\n",
      "  \u001b[31m   \u001b[0m   File \"/Users/sylvesterduah/Documents/Code/De_Alignment/align/lib/python3.12/site-packages/pip/_vendor/pyproject_hooks/_in_process/_in_process.py\", line 152, in prepare_metadata_for_build_wheel\n",
      "  \u001b[31m   \u001b[0m     whl_basename = backend.build_wheel(metadata_directory, config_settings)\n",
      "  \u001b[31m   \u001b[0m                    ^^^^^^^^^^^^^^^^^^^^^^^^^^^^^^^^^^^^^^^^^^^^^^^^^^^^^^^^\n",
      "  \u001b[31m   \u001b[0m   File \"/private/var/folders/7q/j2lypjp93_x38wr0rthx_ymh0000gn/T/pip-build-env-jl2we1fw/overlay/lib/python3.12/site-packages/wheel_stub/buildapi.py\", line 29, in build_wheel\n",
      "  \u001b[31m   \u001b[0m     return download_wheel(pathlib.Path(wheel_directory), config_settings)\n",
      "  \u001b[31m   \u001b[0m            ^^^^^^^^^^^^^^^^^^^^^^^^^^^^^^^^^^^^^^^^^^^^^^^^^^^^^^^^^^^^^^\n",
      "  \u001b[31m   \u001b[0m   File \"/private/var/folders/7q/j2lypjp93_x38wr0rthx_ymh0000gn/T/pip-build-env-jl2we1fw/overlay/lib/python3.12/site-packages/wheel_stub/wheel.py\", line 251, in download_wheel\n",
      "  \u001b[31m   \u001b[0m     report_install_failure(distribution, version, config, exception_context)\n",
      "  \u001b[31m   \u001b[0m   File \"/private/var/folders/7q/j2lypjp93_x38wr0rthx_ymh0000gn/T/pip-build-env-jl2we1fw/overlay/lib/python3.12/site-packages/wheel_stub/error.py\", line 67, in report_install_failure\n",
      "  \u001b[31m   \u001b[0m     raise InstallFailedError(\n",
      "  \u001b[31m   \u001b[0m wheel_stub.error.InstallFailedError:\n",
      "  \u001b[31m   \u001b[0m *******************************************************************************\n",
      "  \u001b[31m   \u001b[0m \n",
      "  \u001b[31m   \u001b[0m The installation of cugraph-cu12 for version 25.2.0 failed.\n",
      "  \u001b[31m   \u001b[0m \n",
      "  \u001b[31m   \u001b[0m This is a special placeholder package which downloads a real wheel package\n",
      "  \u001b[31m   \u001b[0m from https://pypi.nvidia.com/. If https://pypi.nvidia.com/ is not reachable, we\n",
      "  \u001b[31m   \u001b[0m cannot download the real wheel file to install.\n",
      "  \u001b[31m   \u001b[0m \n",
      "  \u001b[31m   \u001b[0m You might try installing this package via\n",
      "  \u001b[31m   \u001b[0m ```\n",
      "  \u001b[31m   \u001b[0m $ pip install --extra-index-url https://pypi.nvidia.com/ cugraph-cu12\n",
      "  \u001b[31m   \u001b[0m ```\n",
      "  \u001b[31m   \u001b[0m \n",
      "  \u001b[31m   \u001b[0m Here is some debug information about your platform to include in any bug\n",
      "  \u001b[31m   \u001b[0m report:\n",
      "  \u001b[31m   \u001b[0m \n",
      "  \u001b[31m   \u001b[0m Python Version: CPython 3.12.2\n",
      "  \u001b[31m   \u001b[0m Operating System: Darwin 24.3.0\n",
      "  \u001b[31m   \u001b[0m CPU Architecture: arm64\n",
      "  \u001b[31m   \u001b[0m nvidia-smi command not found. Ensure NVIDIA drivers are installed.\n",
      "  \u001b[31m   \u001b[0m \n",
      "  \u001b[31m   \u001b[0m *******************************************************************************\n",
      "  \u001b[31m   \u001b[0m \n",
      "  \u001b[31m   \u001b[0m \u001b[31m[end of output]\u001b[0m\n",
      "  \n",
      "  \u001b[1;35mnote\u001b[0m: This error originates from a subprocess, and is likely not a problem with pip.\n",
      "\u001b[?25h\n",
      "\u001b[1m[\u001b[0m\u001b[34;49mnotice\u001b[0m\u001b[1;39;49m]\u001b[0m\u001b[39;49m A new release of pip is available: \u001b[0m\u001b[31;49m24.3.1\u001b[0m\u001b[39;49m -> \u001b[0m\u001b[32;49m25.0.1\u001b[0m\n",
      "\u001b[1m[\u001b[0m\u001b[34;49mnotice\u001b[0m\u001b[1;39;49m]\u001b[0m\u001b[39;49m To update, run: \u001b[0m\u001b[32;49mpip install --upgrade pip\u001b[0m\n",
      "\u001b[1;31merror\u001b[0m: \u001b[1mmetadata-generation-failed\u001b[0m\n",
      "\n",
      "\u001b[31m×\u001b[0m Encountered error while generating package metadata.\n",
      "\u001b[31m╰─>\u001b[0m See above for output.\n",
      "\n",
      "\u001b[1;35mnote\u001b[0m: This is an issue with the package mentioned above, not pip.\n",
      "\u001b[1;36mhint\u001b[0m: See above for details.\n"
     ]
    }
   ],
   "source": [
    "!pip install cugraph-cu12"
   ]
  },
  {
   "cell_type": "code",
   "execution_count": 7,
   "metadata": {},
   "outputs": [
    {
     "ename": "ModuleNotFoundError",
     "evalue": "No module named 'cugraph'",
     "output_type": "error",
     "traceback": [
      "\u001b[0;31m---------------------------------------------------------------------------\u001b[0m",
      "\u001b[0;31mModuleNotFoundError\u001b[0m                       Traceback (most recent call last)",
      "Cell \u001b[0;32mIn[7], line 1\u001b[0m\n\u001b[0;32m----> 1\u001b[0m \u001b[38;5;28;01mimport\u001b[39;00m\u001b[38;5;250m \u001b[39m\u001b[38;5;21;01mcugraph\u001b[39;00m\n\u001b[1;32m      2\u001b[0m \u001b[38;5;28;01mimport\u001b[39;00m\u001b[38;5;250m \u001b[39m\u001b[38;5;21;01mcudf\u001b[39;00m\n\u001b[1;32m      3\u001b[0m \u001b[38;5;28;01mimport\u001b[39;00m\u001b[38;5;250m \u001b[39m\u001b[38;5;21;01mnetworkx\u001b[39;00m\u001b[38;5;250m \u001b[39m\u001b[38;5;28;01mas\u001b[39;00m\u001b[38;5;250m \u001b[39m\u001b[38;5;21;01mnx\u001b[39;00m\n",
      "\u001b[0;31mModuleNotFoundError\u001b[0m: No module named 'cugraph'"
     ]
    }
   ],
   "source": [
    "import cugraph\n",
    "import cudf\n",
    "import networkx as nx"
   ]
  },
  {
   "cell_type": "code",
   "execution_count": 13,
   "metadata": {},
   "outputs": [],
   "source": [
    "# Step 2: Define the Functions\n",
    "def pagerank(graph):\n",
    "    \"\"\"\n",
    "    Compute PageRank for the graph using cuGraph.\n",
    "    \"\"\"\n",
    "    # Convert NetworkX graph to cuGraph graph\n",
    "    edges = [(u, v) for u, v in graph.edges()]\n",
    "    df = cudf.DataFrame(edges, columns=[\"src\", \"dst\"])\n",
    "    g = cugraph.Graph()\n",
    "    g.from_cudf_edgelist(df, source=\"src\", destination=\"dst\")\n",
    "\n",
    "    # Compute PageRank\n",
    "    pagerank_df = cugraph.pagerank(g)\n",
    "    return pagerank_df\n",
    "\n",
    "def community_detection(graph):\n",
    "    \"\"\"\n",
    "    Detect communities in the graph using cuGraph.\n",
    "    \"\"\"\n",
    "    # Convert NetworkX graph to cuGraph graph\n",
    "    edges = [(u, v) for u, v in graph.edges()]\n",
    "    df = cudf.DataFrame(edges, columns=[\"src\", \"dst\"])\n",
    "    g = cugraph.Graph()\n",
    "    g.from_cudf_edgelist(df, source=\"src\", destination=\"dst\")\n",
    "\n",
    "    # Detect communities\n",
    "    communities_df = cugraph.louvain(g)\n",
    "    return communities_df"
   ]
  },
  {
   "cell_type": "code",
   "execution_count": 14,
   "metadata": {},
   "outputs": [
    {
     "ename": "NameError",
     "evalue": "name 'nx' is not defined",
     "output_type": "error",
     "traceback": [
      "\u001b[0;31m---------------------------------------------------------------------------\u001b[0m",
      "\u001b[0;31mNameError\u001b[0m                                 Traceback (most recent call last)",
      "Cell \u001b[0;32mIn[14], line 3\u001b[0m\n\u001b[1;32m      1\u001b[0m \u001b[38;5;66;03m# Step 3: Example Usage\u001b[39;00m\n\u001b[1;32m      2\u001b[0m \u001b[38;5;66;03m# Load the graph from the saved file\u001b[39;00m\n\u001b[0;32m----> 3\u001b[0m G \u001b[38;5;241m=\u001b[39m \u001b[43mnx\u001b[49m\u001b[38;5;241m.\u001b[39mread_graphml(\u001b[38;5;124m\"\u001b[39m\u001b[38;5;124mgraph.graphml\u001b[39m\u001b[38;5;124m\"\u001b[39m)\n\u001b[1;32m      5\u001b[0m \u001b[38;5;66;03m# Compute PageRank\u001b[39;00m\n\u001b[1;32m      6\u001b[0m pagerank_df \u001b[38;5;241m=\u001b[39m pagerank(G)\n",
      "\u001b[0;31mNameError\u001b[0m: name 'nx' is not defined"
     ]
    }
   ],
   "source": [
    "# Step 3: Example Usage\n",
    "# Load the graph from the saved file\n",
    "G = nx.read_graphml(\"graph.graphml\")\n",
    "\n",
    "# Compute PageRank\n",
    "pagerank_df = pagerank(G)\n",
    "print(\"PageRank:\")\n",
    "print(pagerank_df)\n",
    "\n",
    "# Detect communities\n",
    "communities_df = community_detection(G)\n",
    "print(\"Communities:\")\n",
    "print(communities_df)"
   ]
  }
 ],
 "metadata": {
  "kernelspec": {
   "display_name": "align",
   "language": "python",
   "name": "python3"
  },
  "language_info": {
   "codemirror_mode": {
    "name": "ipython",
    "version": 3
   },
   "file_extension": ".py",
   "mimetype": "text/x-python",
   "name": "python",
   "nbconvert_exporter": "python",
   "pygments_lexer": "ipython3",
   "version": "3.12.2"
  }
 },
 "nbformat": 4,
 "nbformat_minor": 2
}
