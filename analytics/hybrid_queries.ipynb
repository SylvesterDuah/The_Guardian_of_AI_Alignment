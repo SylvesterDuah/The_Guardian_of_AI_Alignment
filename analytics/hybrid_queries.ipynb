{
 "cells": [
  {
   "cell_type": "code",
   "execution_count": null,
   "metadata": {},
   "outputs": [],
   "source": [
    "from arango import ArangoClient\n",
    "import cugraph\n",
    "import cudf\n",
    "import networkx as nx"
   ]
  },
  {
   "cell_type": "code",
   "execution_count": null,
   "metadata": {},
   "outputs": [],
   "source": [
    "def find_influential_connections(node_key, db_name=\"graph_db\", graph_name=\"ai_incidents_graph\"):\n",
    "    \"\"\"\n",
    "    Find the most influential connections of a given node using AQL and cuGraph.\n",
    "    \"\"\"\n",
    "    try:\n",
    "        # Initialize the ArangoDB client\n",
    "        client = ArangoClient(hosts=\"http://localhost:8529\")\n",
    "\n",
    "        # Connect to the database\n",
    "        db = client.db(db_name, username=\"root\", password=\"passwd\")\n",
    "\n",
    "        # Define the AQL query to get the subgraph around the node\n",
    "        query = f\"\"\"\n",
    "        FOR v, e IN 1..2 ANY 'nodes/{node_key}' edges\n",
    "        RETURN {{ node: v, edge: e }}\n",
    "        \"\"\"\n",
    "\n",
    "        # Execute the query\n",
    "        cursor = db.aql.execute(query)\n",
    "        results = [doc for doc in cursor]\n",
    "\n",
    "        # Convert the results to a NetworkX graph\n",
    "        G = nx.Graph()\n",
    "        for result in results:\n",
    "            G.add_edge(result[\"node\"][\"_key\"], result[\"edge\"][\"_to\"])\n",
    "\n",
    "        # Compute PageRank for the subgraph\n",
    "        edges = [(u, v) for u, v in G.edges()]\n",
    "        df = cudf.DataFrame(edges, columns=[\"src\", \"dst\"])\n",
    "        g = cugraph.Graph()\n",
    "        g.from_cudf_edgelist(df, source=\"src\", destination=\"dst\")\n",
    "        pagerank_df = cugraph.pagerank(g)\n",
    "\n",
    "        # Sort by PageRank score\n",
    "        pagerank_df = pagerank_df.sort_values(\"pagerank\", ascending=False)\n",
    "\n",
    "        return pagerank_df\n",
    "\n",
    "    except Exception as e:\n",
    "        print(f\"Error executing query: {e}\")\n",
    "        return []"
   ]
  },
  {
   "cell_type": "code",
   "execution_count": null,
   "metadata": {},
   "outputs": [],
   "source": [
    "# Example usage\n",
    "if __name__ == \"__main__\":\n",
    "    node_key = \"Content_Recommendation_0\"\n",
    "    influential_connections = find_influential_connections(node_key)\n",
    "    print(f\"Most influential connections of '{node_key}':\")\n",
    "    print(influential_connections)"
   ]
  }
 ],
 "metadata": {
  "kernelspec": {
   "display_name": "align",
   "language": "python",
   "name": "python3"
  },
  "language_info": {
   "name": "python",
   "version": "3.12.2"
  }
 },
 "nbformat": 4,
 "nbformat_minor": 2
}
